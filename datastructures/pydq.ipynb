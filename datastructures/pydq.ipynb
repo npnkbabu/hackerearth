{
 "cells": [
  {
   "cell_type": "code",
   "execution_count": 2,
   "metadata": {},
   "outputs": [],
   "source": [
    "#we have list which acts as stack by default with append inserts at end and pop takes out from end.\n",
    "#deque is double ended queue. appends or pops from both end with O(1) time complexity\n",
    "from collections import deque"
   ]
  },
  {
   "cell_type": "code",
   "execution_count": 6,
   "metadata": {},
   "outputs": [
    {
     "name": "stdout",
     "output_type": "stream",
     "text": [
      "deque([1, 2, 3], maxlen=3)\n",
      "deque([4, 1, 2], maxlen=3)\n"
     ]
    }
   ],
   "source": [
    "#maxlen: we can specify the maxlen of a dq. if we try to insert more items then items will get delete from other end\n",
    "dq = deque([1,2,3],maxlen=3)\n",
    "print(dq)\n",
    "dq.appendleft(4)\n",
    "print(dq)"
   ]
  },
  {
   "cell_type": "code",
   "execution_count": 8,
   "metadata": {},
   "outputs": [],
   "source": [
    "#all functions are same as list. list functions are almost work at the end (right). we have extra functions for dq with \n",
    "#keyword left,, like appendleft, popleft which does same operations at lef"
   ]
  },
  {
   "cell_type": "code",
   "execution_count": 10,
   "metadata": {},
   "outputs": [
    {
     "name": "stdout",
     "output_type": "stream",
     "text": [
      "deque([3, 1, 2])\n",
      "deque([1, 2, 3])\n"
     ]
    }
   ],
   "source": [
    "#rotate: rotate the q to right for +ve steps (clockwise) and to left (anti-clockwise) for -ve steps\n",
    "dq = deque([1,2,3])\n",
    "dq.rotate(1) # 3,1,2\n",
    "print(dq)\n",
    "dq.rotate(-1)\n",
    "print(dq)"
   ]
  },
  {
   "cell_type": "code",
   "execution_count": 16,
   "metadata": {},
   "outputs": [
    {
     "name": "stdout",
     "output_type": "stream",
     "text": [
      "2952179594848\n",
      "2952179594640\n",
      "deque([3, 1, 2])\n",
      "deque([1, 2, 3])\n"
     ]
    }
   ],
   "source": [
    "#copy is same\n",
    "dq = deque([1,2,3])\n",
    "temp = dq.copy()\n",
    "print(id(dq))\n",
    "print(id(temp))\n",
    "temp.rotate(1)\n",
    "print(temp)\n",
    "print(dq)"
   ]
  },
  {
   "cell_type": "code",
   "execution_count": 19,
   "metadata": {},
   "outputs": [
    {
     "name": "stdout",
     "output_type": "stream",
     "text": [
      "deque([1, 2, 3, ['A', 'B']])\n",
      "deque([1, 2, 3, ['A', 'B', 'C']])\n"
     ]
    }
   ],
   "source": [
    "import copy\n",
    "dq =deque([1,2,3,['A','B']])\n",
    "temp = copy.deepcopy(dq)\n",
    "temp[3].append('C')\n",
    "print(dq)\n",
    "print(temp)"
   ]
  },
  {
   "cell_type": "code",
   "execution_count": 20,
   "metadata": {},
   "outputs": [
    {
     "name": "stdout",
     "output_type": "stream",
     "text": [
      "deque([1, 2, 3, ['A', 'B', 'C']])\n",
      "deque([1, 2, 3, ['A', 'B', 'C']])\n"
     ]
    }
   ],
   "source": [
    "import copy\n",
    "dq =deque([1,2,3,['A','B']])\n",
    "temp = dq.copy()\n",
    "temp[3].append('C')\n",
    "print(dq)\n",
    "print(temp)"
   ]
  },
  {
   "cell_type": "code",
   "execution_count": 29,
   "metadata": {},
   "outputs": [],
   "source": [
    "lst=[1,2]\n",
    "tpl=(1,2)\n",
    "st={1,2}\n",
    "dt={1:'one',2:'two'}\n",
    "it=2.0\n",
    "temp=copy.copy(it)"
   ]
  },
  {
   "cell_type": "code",
   "execution_count": 30,
   "metadata": {},
   "outputs": [
    {
     "data": {
      "text/plain": [
       "[1, 2]"
      ]
     },
     "execution_count": 30,
     "metadata": {},
     "output_type": "execute_result"
    }
   ],
   "source": [
    "lst=[1,2]\n",
    "tmp = lst.copy()\n",
    "tmp[0]='A'\n",
    "lst"
   ]
  },
  {
   "cell_type": "code",
   "execution_count": null,
   "metadata": {},
   "outputs": [],
   "source": []
  }
 ],
 "metadata": {
  "kernelspec": {
   "display_name": "Python 3",
   "language": "python",
   "name": "python3"
  },
  "language_info": {
   "codemirror_mode": {
    "name": "ipython",
    "version": 3
   },
   "file_extension": ".py",
   "mimetype": "text/x-python",
   "name": "python",
   "nbconvert_exporter": "python",
   "pygments_lexer": "ipython3",
   "version": "3.6.10"
  }
 },
 "nbformat": 4,
 "nbformat_minor": 4
}
