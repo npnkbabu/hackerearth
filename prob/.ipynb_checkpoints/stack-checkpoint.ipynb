{
 "cells": [
  {
   "cell_type": "code",
   "execution_count": 64,
   "metadata": {
    "scrolled": true
   },
   "outputs": [
    {
     "name": "stdout",
     "output_type": "stream",
     "text": [
      "f--> 3 --> 7\n",
      "g--> 7 --> 1\n",
      "f--> 7 --> 8\n",
      "g--> 8 --> 4\n",
      "f--> 1 --> 7\n",
      "g--> 7 --> 4\n",
      "f--> 7 --> 8\n",
      "g--> 8 --> 4\n",
      "g--> 7 --> 1\n",
      "f--> 4 --> 5\n",
      "g--> 5 --> 2\n",
      "g--> 7 --> 1\n",
      "g--> 7 --> 1\n"
     ]
    }
   ],
   "source": [
    "#A Game of Numbers\n",
    "def fun(x,arr,type='f'):\n",
    "    n = len(arr)\n",
    "    num = arr[x]\n",
    "    retvalue=0\n",
    "    for i in range(x+1,n):\n",
    "        if type == 'f':\n",
    "            if (arr[i] >num):\n",
    "                retvalue = i\n",
    "                print('f-->',arr[x],'-->',arr[retvalue]if retvalue !=-1 else 1)\n",
    "                break\n",
    "        else:\n",
    "            if (arr[i] <num):\n",
    "                retvalue = i\n",
    "                print('g-->',arr[x],'-->',arr[retvalue] if retvalue !=-1 else 1)\n",
    "                break\n",
    "        \n",
    "    return 1 if retvalue==0 else retvalue \n",
    "    \n",
    "def gm(arr):\n",
    "    for x in range(len(arr)):\n",
    "        fun(fun(x,arr,'f'),arr,'g' )\n",
    "    \n",
    "gm([3,7,1,7,8,4,5,2])"
   ]
  },
  {
   "cell_type": "code",
   "execution_count": null,
   "metadata": {},
   "outputs": [],
   "source": []
  }
 ],
 "metadata": {
  "kernelspec": {
   "display_name": "Python 3",
   "language": "python",
   "name": "python3"
  },
  "language_info": {
   "codemirror_mode": {
    "name": "ipython",
    "version": 3
   },
   "file_extension": ".py",
   "mimetype": "text/x-python",
   "name": "python",
   "nbconvert_exporter": "python",
   "pygments_lexer": "ipython3",
   "version": "3.6.10"
  }
 },
 "nbformat": 4,
 "nbformat_minor": 4
}
