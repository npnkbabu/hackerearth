{
 "cells": [
  {
   "cell_type": "code",
   "execution_count": 1,
   "metadata": {},
   "outputs": [],
   "source": [
    "#dict : the fastest retrival independent of no.of itmes O(1), its unordered"
   ]
  },
  {
   "cell_type": "code",
   "execution_count": 70,
   "metadata": {},
   "outputs": [],
   "source": [
    "mydict = {1:'One',2:'Two',3:'Three'}"
   ]
  },
  {
   "cell_type": "code",
   "execution_count": 7,
   "metadata": {},
   "outputs": [
    {
     "name": "stdout",
     "output_type": "stream",
     "text": [
      "One\n",
      "None\n",
      "default\n"
     ]
    }
   ],
   "source": [
    "#get to got an item , get will return None if no item there , it can return default value also\n",
    "print(mydict[1])\n",
    "print(mydict.get(5))\n",
    "print(mydict.get(5,'default'))"
   ]
  },
  {
   "cell_type": "code",
   "execution_count": 8,
   "metadata": {},
   "outputs": [
    {
     "name": "stdout",
     "output_type": "stream",
     "text": [
      "{1: 'ooone', 2: 'Two', 3: 'Three'}\n",
      "{1: 'One', 2: 'Two', 3: 'Three'}\n"
     ]
    }
   ],
   "source": [
    "#copy returns a shallow copy\n",
    "temp = mydict.copy()\n",
    "temp[1]='ooone'\n",
    "print(temp)\n",
    "print(mydict)"
   ]
  },
  {
   "cell_type": "code",
   "execution_count": 10,
   "metadata": {},
   "outputs": [
    {
     "name": "stdout",
     "output_type": "stream",
     "text": [
      "dict_keys([1, 2, 3])\n",
      "dict_values(['One', 'Two', 'Three'])\n",
      "dict_items([(1, 'One'), (2, 'Two'), (3, 'Three')])\n"
     ]
    }
   ],
   "source": [
    "#keys: list of keys\n",
    "#values : list of values\n",
    "#items : list of tuples of key,value pairs\n",
    "print(mydict.keys())\n",
    "print(mydict.values())\n",
    "print(mydict.items())"
   ]
  },
  {
   "cell_type": "code",
   "execution_count": 22,
   "metadata": {},
   "outputs": [
    {
     "data": {
      "text/plain": [
       "{1: 'One', 2: 'Two', 3: 'Three', 11: 'oooone'}"
      ]
     },
     "execution_count": 22,
     "metadata": {},
     "output_type": "execute_result"
    }
   ],
   "source": [
    "#update : updates the items of dict with another dict, if item not there then it will add.\n",
    "mydict.update({11:'oooone'})\n",
    "mydict"
   ]
  },
  {
   "cell_type": "code",
   "execution_count": 24,
   "metadata": {},
   "outputs": [
    {
     "name": "stdout",
     "output_type": "stream",
     "text": [
      "One\n",
      "{2: 'Two', 3: 'Three', 11: 'oooone'}\n"
     ]
    }
   ],
   "source": [
    "#pop : if key is there then return value and remove tht item from dict\n",
    "#, otherwise throw keyerror, otherwise return default value mentioned\n",
    "print(mydict.pop(1))\n",
    "print(mydict)"
   ]
  },
  {
   "cell_type": "code",
   "execution_count": 25,
   "metadata": {},
   "outputs": [
    {
     "name": "stdout",
     "output_type": "stream",
     "text": [
      "None\n",
      "{}\n",
      "{2: 'Two', 3: 'Three', 11: 'oooone'}\n"
     ]
    }
   ],
   "source": [
    "#clear : remove all items from dict\n",
    "temp = mydict.copy()\n",
    "print(temp.clear())\n",
    "print(temp)\n",
    "print(mydict)"
   ]
  },
  {
   "cell_type": "code",
   "execution_count": 28,
   "metadata": {},
   "outputs": [
    {
     "name": "stdout",
     "output_type": "stream",
     "text": [
      "{3: 'Three', 11: 'oooone'}\n"
     ]
    }
   ],
   "source": [
    "# del removes the item\n",
    "del mydict[2]\n",
    "print(mydict)"
   ]
  },
  {
   "cell_type": "code",
   "execution_count": 32,
   "metadata": {},
   "outputs": [
    {
     "name": "stdout",
     "output_type": "stream",
     "text": [
      "{1: 'One', 2: 'Two', 3: 'Three'}\n",
      "oooone\n",
      "{1: 'One', 2: 'Two', 3: 'Three', 11: 'oooone'}\n"
     ]
    }
   ],
   "source": [
    "#setdefault : if key is there return value, if not insert with specified default value. its like .update \n",
    "print(mydict)\n",
    "print(mydict.setdefault(11,'oooone'))\n",
    "print(mydict)"
   ]
  },
  {
   "cell_type": "code",
   "execution_count": 43,
   "metadata": {},
   "outputs": [
    {
     "data": {
      "text/plain": [
       "True"
      ]
     },
     "execution_count": 43,
     "metadata": {},
     "output_type": "execute_result"
    }
   ],
   "source": [
    "#to check key is there or not user as below. Becoz by default mydict works as list of keys, we don't need to use .keys()\n",
    "1 in mydict"
   ]
  },
  {
   "cell_type": "code",
   "execution_count": 61,
   "metadata": {},
   "outputs": [
    {
     "name": "stdout",
     "output_type": "stream",
     "text": [
      "{'key1': None, 'key2': None}\n",
      "{'key1': 0, 'key2': 0}\n"
     ]
    }
   ],
   "source": [
    "#fromkeys. this static method takes keys and optional vals to construct a dict\n",
    "temp = dict.fromkeys(['key1','key2'])\n",
    "print(temp)\n",
    "temp = dict.fromkeys(['key1','key2'],0)\n",
    "print(temp)"
   ]
  },
  {
   "cell_type": "code",
   "execution_count": 71,
   "metadata": {},
   "outputs": [
    {
     "name": "stdout",
     "output_type": "stream",
     "text": [
      "(3, 'Three')\n",
      "{1: 'One', 2: 'Two'}\n"
     ]
    }
   ],
   "source": [
    "#popitem removes arbitary item and returns its value\n",
    "print(mydict.popitem())\n",
    "print(mydict)"
   ]
  },
  {
   "cell_type": "code",
   "execution_count": null,
   "metadata": {},
   "outputs": [],
   "source": []
  },
  {
   "cell_type": "code",
   "execution_count": null,
   "metadata": {},
   "outputs": [],
   "source": []
  }
 ],
 "metadata": {
  "kernelspec": {
   "display_name": "Python 3",
   "language": "python",
   "name": "python3"
  },
  "language_info": {
   "codemirror_mode": {
    "name": "ipython",
    "version": 3
   },
   "file_extension": ".py",
   "mimetype": "text/x-python",
   "name": "python",
   "nbconvert_exporter": "python",
   "pygments_lexer": "ipython3",
   "version": "3.6.10"
  }
 },
 "nbformat": 4,
 "nbformat_minor": 4
}
