{
 "cells": [
  {
   "cell_type": "code",
   "execution_count": 22,
   "metadata": {},
   "outputs": [
    {
     "data": {
      "text/plain": [
       "7"
      ]
     },
     "execution_count": 22,
     "metadata": {},
     "output_type": "execute_result"
    }
   ],
   "source": [
    "#Micro and Array Update\n",
    "def microarr(arr,k):\n",
    "    count =0\n",
    "    for i in arr:\n",
    "        while (i+count) < k:\n",
    "            count += 1\n",
    "    return count\n",
    "    \n",
    "microarr([3,6,1],8)"
   ]
  },
  {
   "cell_type": "code",
   "execution_count": 63,
   "metadata": {},
   "outputs": [
    {
     "data": {
      "text/plain": [
       "6"
      ]
     },
     "execution_count": 63,
     "metadata": {},
     "output_type": "execute_result"
    }
   ],
   "source": [
    "#Pairs Having Similar Elements\n",
    "def similarpairs(arr):\n",
    "    #arr.sort()\n",
    "    count=0\n",
    "    previndex = -1\n",
    "    res = []\n",
    "    n = len(arr)\n",
    "    temp = -1\n",
    "    for i in range(n):\n",
    "        temp = -1\n",
    "        if arr[i]+1 in arr[i:]:\n",
    "            temp = arr[i]+1\n",
    "            \n",
    "        if arr[i]-1 in arr[i:]:\n",
    "            temp = arr[i]-1\n",
    "        \n",
    "        if temp != -1:\n",
    "            if temp in res or arr[i] in res:\n",
    "                count += 1\n",
    "            count += 1\n",
    "            res.append(temp)\n",
    "            res.append(arr[i])\n",
    "        \n",
    "    return count\n",
    "    \n",
    "similarpairs([1 ,3 ,5, 7, 8, 2 ,5 ,7])"
   ]
  },
  {
   "cell_type": "code",
   "execution_count": null,
   "metadata": {},
   "outputs": [],
   "source": [
    "#Hamiltonian and Lagrangian\n",
    "def hamil(arr):\n",
    "    n = len(arr)\n",
    "    res = []\n",
    "    j=-1\n",
    "    for i in range(1, n):\n",
    "        j = i-1\n",
    "        while arr[i]>=arr[j] and j <n:\n",
    "            j += 1\n",
    "        \n",
    "        if j == n-1:\n",
    "            res.append(arr[i])\n",
    "    \n",
    "    #res.append(arr[-1])\n",
    "    print(*res)\n",
    "    \n",
    "hamil([16, 17 ,4 ,3, 5, 2])"
   ]
  },
  {
   "cell_type": "code",
   "execution_count": 74,
   "metadata": {},
   "outputs": [
    {
     "name": "stdout",
     "output_type": "stream",
     "text": [
      "[[3], [4], [3, 4], [5], [3, 5], [4, 5], [3, 4, 5]]\n"
     ]
    }
   ],
   "source": [
    "#Charged Up Array\n",
    "def totalcharge(arr,k):\n",
    "    #powerset generation\n",
    "    total = pow(2,len(arr))\n",
    "    n = len(arr)\n",
    "    res=[]\n",
    "    count=0\n",
    "    for x in range(1,total):\n",
    "        res.append([arr[j]  for j in range(n) if x & (1<<j)])\n",
    "\n",
    "    \n",
    "totalcharge([3 ,4 ,5])"
   ]
  },
  {
   "cell_type": "code",
   "execution_count": null,
   "metadata": {},
   "outputs": [],
   "source": []
  }
 ],
 "metadata": {
  "kernelspec": {
   "display_name": "Python 3",
   "language": "python",
   "name": "python3"
  },
  "language_info": {
   "codemirror_mode": {
    "name": "ipython",
    "version": 3
   },
   "file_extension": ".py",
   "mimetype": "text/x-python",
   "name": "python",
   "nbconvert_exporter": "python",
   "pygments_lexer": "ipython3",
   "version": "3.6.10"
  }
 },
 "nbformat": 4,
 "nbformat_minor": 4
}
