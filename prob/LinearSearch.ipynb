{
 "cells": [
  {
   "cell_type": "code",
   "execution_count": 56,
   "metadata": {},
   "outputs": [],
   "source": [
    "#You are given a range . You are required to find the number of integers  X in the range such that GCD(X,F(X))>1 where \n",
    "#F(X) is equal to the sum of digits of X in its hexadecimal (or base 16) representation.\n",
    "\n",
    "def GCD(x,y):\n",
    "    if y ==0 :\n",
    "        return x\n",
    "    else:\n",
    "        return GCD(y,x%y)\n",
    "def fun(r1,r2):\n",
    "    count=0\n",
    "    for x in range(r1,r2+1):\n",
    "        if GCD(x,sum([int(t,16) for t in hex(x)[2:]])) > 1:\n",
    "            count += 1\n",
    "    return count\n"
   ]
  },
  {
   "cell_type": "code",
   "execution_count": 57,
   "metadata": {},
   "outputs": [
    {
     "data": {
      "text/plain": [
       "6"
      ]
     },
     "execution_count": 57,
     "metadata": {},
     "output_type": "execute_result"
    }
   ],
   "source": [
    "fun(7,12)"
   ]
  },
  {
   "cell_type": "code",
   "execution_count": 58,
   "metadata": {},
   "outputs": [
    {
     "name": "stdout",
     "output_type": "stream",
     "text": [
      "hi\n"
     ]
    }
   ],
   "source": [
    "#Given A Series Of N Positive Integers a1,a2,a3........an. ,\n",
    "#Find The Minimum And Maximum Values That Can Be Calculated By Summing Exactly N-1 Of The N Integers. \n",
    "#Then Print The Respective Minimum And Maximum Values As A Single Line Of Two Space-Separated Long Integers.\n",
    "def GetMinMax(arr):\n",
    "    print('hi')\n",
    "    \n",
    "GetMinMax([12,3])"
   ]
  },
  {
   "cell_type": "code",
   "execution_count": null,
   "metadata": {},
   "outputs": [],
   "source": []
  }
 ],
 "metadata": {
  "kernelspec": {
   "display_name": "Python 3",
   "language": "python",
   "name": "python3"
  },
  "language_info": {
   "codemirror_mode": {
    "name": "ipython",
    "version": 3
   },
   "file_extension": ".py",
   "mimetype": "text/x-python",
   "name": "python",
   "nbconvert_exporter": "python",
   "pygments_lexer": "ipython3",
   "version": "3.6.10"
  }
 },
 "nbformat": 4,
 "nbformat_minor": 4
}
