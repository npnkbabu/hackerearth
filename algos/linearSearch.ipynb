{
 "cells": [
  {
   "cell_type": "code",
   "execution_count": 18,
   "metadata": {},
   "outputs": [
    {
     "data": {
      "text/plain": [
       "5"
      ]
     },
     "execution_count": 18,
     "metadata": {},
     "output_type": "execute_result"
    }
   ],
   "source": [
    "#last occurance of a number index\n",
    "num=1\n",
    "arr=[1, 2 ,3, 4, 1]\n",
    "lastindex= (len(arr) - arr[::-1].index(num)) if num in arr else -1\n",
    "lastindex"
   ]
  },
  {
   "cell_type": "code",
   "execution_count": 45,
   "metadata": {},
   "outputs": [
    {
     "name": "stdout",
     "output_type": "stream",
     "text": [
      "2 4\n"
     ]
    }
   ],
   "source": [
    "#easy sum set problem\n",
    "from collections import Counter\n",
    "setA={4, 3, 5, 1}\n",
    "setC={3, 5 ,6, 7, 8, 9}\n",
    "#setA+setB=setC\n",
    "lstB=[]\n",
    "for x in setC:\n",
    "    for y in setA:\n",
    "        lstB.append(x-y)\n",
    "setB = set([x for x in lstB if lstB.count(x)==len(setA)])\n",
    "print(' '.join([str(x) for x in setB]))\n",
    "\n"
   ]
  },
  {
   "cell_type": "code",
   "execution_count": 74,
   "metadata": {},
   "outputs": [
    {
     "name": "stdout",
     "output_type": "stream",
     "text": [
      "-1 1\n"
     ]
    }
   ],
   "source": [
    "#max sum\n",
    "lst=[-1, -2, -4 ,-2 ,-3]\n",
    "a=[x for x in lst if x>0]\n",
    "if len(a) >0:\n",
    "    a.sort(reverse=True)\n",
    "    if len(a) < len(lst):\n",
    "        print(sum(a),len(a))\n",
    "    elif len(a) == len(lst):\n",
    "        print(a)\n",
    "        print(sum(a[:2]),2)\n",
    "else:\n",
    "    lst.sort(reverse=True)\n",
    "    print(lst[0],1)\n",
    "    "
   ]
  },
  {
   "cell_type": "code",
   "execution_count": 88,
   "metadata": {},
   "outputs": [
    {
     "name": "stdout",
     "output_type": "stream",
     "text": [
      "54321\n"
     ]
    }
   ],
   "source": [
    "#Reverse integer\n",
    "a=12345\n",
    "string = str(a)\n",
    "if string[0] == '-':\n",
    "    print('-'+string[:0:-1])\n",
    "else:\n",
    "    print(string[::-1])"
   ]
  },
  {
   "cell_type": "code",
   "execution_count": 127,
   "metadata": {},
   "outputs": [
    {
     "data": {
      "text/plain": [
       "4.076923076923077"
      ]
     },
     "execution_count": 127,
     "metadata": {},
     "output_type": "execute_result"
    }
   ],
   "source": [
    "#avg word length\n",
    "# For a given sentence, return the average word length. \n",
    "# Note: Remember to remove punctuation first.\n",
    "import re\n",
    "sentence1 = 'Hi all, my name is Tom...I am originally from Australia.'\n",
    "sentence2 = 'I need to work very hard to learn more about algorithms in Python!'\n",
    "\n",
    "def avgwordlen(sent):\n",
    "    sent = re.sub(r'[!?\\',;.]', '',sent)\n",
    "    if sent:\n",
    "        return sum([len(word) for word in sent.split()])/len(sent.split())\n",
    "    else:\n",
    "        return 0\n",
    "\n",
    "avgwordlen(sentence2)\n",
    "        "
   ]
  },
  {
   "cell_type": "code",
   "execution_count": 129,
   "metadata": {},
   "outputs": [
    {
     "name": "stdout",
     "output_type": "stream",
     "text": [
      "hi\n"
     ]
    }
   ],
   "source": [
    "#add strings\n",
    "# Given two non-negative integers num1 and num2 represented as string, return the sum of num1 and num2.\n",
    "# You must not use any built-in BigInteger library or convert the inputs to integer directly.\n",
    "\n",
    "#Notes:\n",
    "#Both num1 and num2 contains only digits 0-9.\n",
    "#Both num1 and num2 does not contain any leading zero.\n",
    "\n",
    "def mysum(num1,num2):\n",
    "    print('hi')\n",
    "\n",
    "num1 = '364'\n",
    "num2 = '1836'\n",
    "mysum(num1,num2)"
   ]
  },
  {
   "cell_type": "code",
   "execution_count": null,
   "metadata": {},
   "outputs": [],
   "source": []
  }
 ],
 "metadata": {
  "kernelspec": {
   "display_name": "Python 3",
   "language": "python",
   "name": "python3"
  },
  "language_info": {
   "codemirror_mode": {
    "name": "ipython",
    "version": 3
   },
   "file_extension": ".py",
   "mimetype": "text/x-python",
   "name": "python",
   "nbconvert_exporter": "python",
   "pygments_lexer": "ipython3",
   "version": "3.6.10"
  }
 },
 "nbformat": 4,
 "nbformat_minor": 4
}
